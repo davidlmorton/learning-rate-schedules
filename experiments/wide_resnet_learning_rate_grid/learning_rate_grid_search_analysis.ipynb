{
 "cells": [
  {
   "cell_type": "markdown",
   "metadata": {
    "ExecuteTime": {
     "end_time": "2018-03-27T16:42:46.700155Z",
     "start_time": "2018-03-27T16:42:46.697026Z"
    }
   },
   "source": [
    "# Learning Rate Grid Search Analysis"
   ]
  },
  {
   "cell_type": "markdown",
   "metadata": {},
   "source": [
    "This notebook can be used after running `$ bash loop-lr-only.sh` or `$ bash loop-all.sh` a number of times.\n",
    "Those scripts make repeated calls to another script that trains a simple classifier on the FashionMNIST dataset with different learning rates and learning rate schedules.\n",
    "Be sure to update the `base_path = ` cell below as appropriate, based on whether you ran `loop-lr-only.sh` or `loop-all.sh`."
   ]
  },
  {
   "cell_type": "code",
   "execution_count": 1,
   "metadata": {
    "ExecuteTime": {
     "end_time": "2018-04-14T05:36:06.607030Z",
     "start_time": "2018-04-14T05:36:06.043843Z"
    }
   },
   "outputs": [],
   "source": [
    "from matplotlib import pyplot as plt\n",
    "import numpy as np\n",
    "import os\n",
    "import pandas as pd\n",
    "from sconce.monitors import DataframeMonitor"
   ]
  },
  {
   "cell_type": "code",
   "execution_count": 2,
   "metadata": {
    "ExecuteTime": {
     "end_time": "2018-04-14T05:36:06.614077Z",
     "start_time": "2018-04-14T05:36:06.609123Z"
    }
   },
   "outputs": [],
   "source": [
    "base_path = 'pc-lr-only'"
   ]
  },
  {
   "cell_type": "code",
   "execution_count": 3,
   "metadata": {
    "ExecuteTime": {
     "end_time": "2018-04-14T05:36:06.620836Z",
     "start_time": "2018-04-14T05:36:06.615278Z"
    }
   },
   "outputs": [],
   "source": [
    "csv_filename = os.path.join(base_path, 'results.csv')\n",
    "df = pd.read_csv(csv_filename, delimiter='\\t')"
   ]
  },
  {
   "cell_type": "code",
   "execution_count": 16,
   "metadata": {
    "ExecuteTime": {
     "end_time": "2018-04-14T05:45:48.554743Z",
     "start_time": "2018-04-14T05:45:48.543812Z"
    }
   },
   "outputs": [],
   "source": [
    "means = df.pivot_table(values='classification_accuracy', index=['rate_schedule', 'max_learning_rate'])\n",
    "means = means.swaplevel().unstack()\n",
    "\n",
    "stds = df.pivot_table(values='classification_accuracy', index=['rate_schedule', 'max_learning_rate'], aggfunc=np.std)\n",
    "stds = stds.swaplevel().unstack()"
   ]
  },
  {
   "cell_type": "code",
   "execution_count": 15,
   "metadata": {
    "ExecuteTime": {
     "end_time": "2018-04-14T05:42:40.744299Z",
     "start_time": "2018-04-14T05:42:40.736290Z"
    }
   },
   "outputs": [
    {
     "data": {
      "text/html": [
       "<div>\n",
       "<style scoped>\n",
       "    .dataframe tbody tr th:only-of-type {\n",
       "        vertical-align: middle;\n",
       "    }\n",
       "\n",
       "    .dataframe tbody tr th {\n",
       "        vertical-align: top;\n",
       "    }\n",
       "\n",
       "    .dataframe thead tr th {\n",
       "        text-align: left;\n",
       "    }\n",
       "\n",
       "    .dataframe thead tr:last-of-type th {\n",
       "        text-align: right;\n",
       "    }\n",
       "</style>\n",
       "<table border=\"1\" class=\"dataframe\">\n",
       "  <thead>\n",
       "    <tr>\n",
       "      <th>max_learning_rate</th>\n",
       "    </tr>\n",
       "  </thead>\n",
       "  <tbody>\n",
       "    <tr>\n",
       "      <th>0.1</th>\n",
       "    </tr>\n",
       "  </tbody>\n",
       "</table>\n",
       "</div>"
      ],
      "text/plain": [
       "Empty DataFrame\n",
       "Columns: []\n",
       "Index: [0.1]"
      ]
     },
     "execution_count": 15,
     "metadata": {},
     "output_type": "execute_result"
    }
   ],
   "source": [
    "stds.head()"
   ]
  },
  {
   "cell_type": "code",
   "execution_count": 12,
   "metadata": {
    "ExecuteTime": {
     "end_time": "2018-04-14T05:41:55.157868Z",
     "start_time": "2018-04-14T05:41:55.118811Z"
    }
   },
   "outputs": [
    {
     "ename": "KeyError",
     "evalue": "('classification_accuracy', 'piecewise-constant')",
     "output_type": "error",
     "traceback": [
      "\u001b[0;31m---------------------------------------------------------------------------\u001b[0m",
      "\u001b[0;31mKeyError\u001b[0m                                  Traceback (most recent call last)",
      "\u001b[0;32m<ipython-input-12-c1dbdec34786>\u001b[0m in \u001b[0;36m<module>\u001b[0;34m()\u001b[0m\n\u001b[1;32m      1\u001b[0m \u001b[0mtmeans\u001b[0m \u001b[0;34m=\u001b[0m \u001b[0mmeans\u001b[0m\u001b[0;34m[\u001b[0m\u001b[0;34m(\u001b[0m\u001b[0;34m'classification_accuracy'\u001b[0m\u001b[0;34m,\u001b[0m \u001b[0;34m'piecewise-constant'\u001b[0m\u001b[0;34m)\u001b[0m\u001b[0;34m]\u001b[0m\u001b[0;34m\u001b[0m\u001b[0m\n\u001b[0;32m----> 2\u001b[0;31m \u001b[0mtstds\u001b[0m \u001b[0;34m=\u001b[0m \u001b[0mstds\u001b[0m\u001b[0;34m[\u001b[0m\u001b[0;34m(\u001b[0m\u001b[0;34m'classification_accuracy'\u001b[0m\u001b[0;34m,\u001b[0m \u001b[0;34m'piecewise-constant'\u001b[0m\u001b[0;34m)\u001b[0m\u001b[0;34m]\u001b[0m\u001b[0;34m\u001b[0m\u001b[0m\n\u001b[0m\u001b[1;32m      3\u001b[0m \u001b[0;34m\u001b[0m\u001b[0m\n\u001b[1;32m      4\u001b[0m \u001b[0mfig\u001b[0m \u001b[0;34m=\u001b[0m \u001b[0mplt\u001b[0m\u001b[0;34m.\u001b[0m\u001b[0mfigure\u001b[0m\u001b[0;34m(\u001b[0m\u001b[0mfigsize\u001b[0m\u001b[0;34m=\u001b[0m\u001b[0;34m(\u001b[0m\u001b[0;36m15\u001b[0m\u001b[0;34m,\u001b[0m\u001b[0;36m6\u001b[0m\u001b[0;34m)\u001b[0m\u001b[0;34m)\u001b[0m\u001b[0;34m\u001b[0m\u001b[0m\n\u001b[1;32m      5\u001b[0m \u001b[0max\u001b[0m \u001b[0;34m=\u001b[0m \u001b[0mfig\u001b[0m\u001b[0;34m.\u001b[0m\u001b[0madd_subplot\u001b[0m\u001b[0;34m(\u001b[0m\u001b[0;36m1\u001b[0m\u001b[0;34m,\u001b[0m \u001b[0;36m1\u001b[0m\u001b[0;34m,\u001b[0m \u001b[0;36m1\u001b[0m\u001b[0;34m)\u001b[0m\u001b[0;34m\u001b[0m\u001b[0m\n",
      "\u001b[0;32m~/git_repos/learning-rate-schedules/.tox/jupyter/lib/python3.6/site-packages/pandas/core/frame.py\u001b[0m in \u001b[0;36m__getitem__\u001b[0;34m(self, key)\u001b[0m\n\u001b[1;32m   2135\u001b[0m             \u001b[0;32mreturn\u001b[0m \u001b[0mself\u001b[0m\u001b[0;34m.\u001b[0m\u001b[0m_getitem_frame\u001b[0m\u001b[0;34m(\u001b[0m\u001b[0mkey\u001b[0m\u001b[0;34m)\u001b[0m\u001b[0;34m\u001b[0m\u001b[0m\n\u001b[1;32m   2136\u001b[0m         \u001b[0;32melif\u001b[0m \u001b[0mis_mi_columns\u001b[0m\u001b[0;34m:\u001b[0m\u001b[0;34m\u001b[0m\u001b[0m\n\u001b[0;32m-> 2137\u001b[0;31m             \u001b[0;32mreturn\u001b[0m \u001b[0mself\u001b[0m\u001b[0;34m.\u001b[0m\u001b[0m_getitem_multilevel\u001b[0m\u001b[0;34m(\u001b[0m\u001b[0mkey\u001b[0m\u001b[0;34m)\u001b[0m\u001b[0;34m\u001b[0m\u001b[0m\n\u001b[0m\u001b[1;32m   2138\u001b[0m         \u001b[0;32melse\u001b[0m\u001b[0;34m:\u001b[0m\u001b[0;34m\u001b[0m\u001b[0m\n\u001b[1;32m   2139\u001b[0m             \u001b[0;32mreturn\u001b[0m \u001b[0mself\u001b[0m\u001b[0;34m.\u001b[0m\u001b[0m_getitem_column\u001b[0m\u001b[0;34m(\u001b[0m\u001b[0mkey\u001b[0m\u001b[0;34m)\u001b[0m\u001b[0;34m\u001b[0m\u001b[0m\n",
      "\u001b[0;32m~/git_repos/learning-rate-schedules/.tox/jupyter/lib/python3.6/site-packages/pandas/core/frame.py\u001b[0m in \u001b[0;36m_getitem_multilevel\u001b[0;34m(self, key)\u001b[0m\n\u001b[1;32m   2179\u001b[0m \u001b[0;34m\u001b[0m\u001b[0m\n\u001b[1;32m   2180\u001b[0m     \u001b[0;32mdef\u001b[0m \u001b[0m_getitem_multilevel\u001b[0m\u001b[0;34m(\u001b[0m\u001b[0mself\u001b[0m\u001b[0;34m,\u001b[0m \u001b[0mkey\u001b[0m\u001b[0;34m)\u001b[0m\u001b[0;34m:\u001b[0m\u001b[0;34m\u001b[0m\u001b[0m\n\u001b[0;32m-> 2181\u001b[0;31m         \u001b[0mloc\u001b[0m \u001b[0;34m=\u001b[0m \u001b[0mself\u001b[0m\u001b[0;34m.\u001b[0m\u001b[0mcolumns\u001b[0m\u001b[0;34m.\u001b[0m\u001b[0mget_loc\u001b[0m\u001b[0;34m(\u001b[0m\u001b[0mkey\u001b[0m\u001b[0;34m)\u001b[0m\u001b[0;34m\u001b[0m\u001b[0m\n\u001b[0m\u001b[1;32m   2182\u001b[0m         \u001b[0;32mif\u001b[0m \u001b[0misinstance\u001b[0m\u001b[0;34m(\u001b[0m\u001b[0mloc\u001b[0m\u001b[0;34m,\u001b[0m \u001b[0;34m(\u001b[0m\u001b[0mslice\u001b[0m\u001b[0;34m,\u001b[0m \u001b[0mSeries\u001b[0m\u001b[0;34m,\u001b[0m \u001b[0mnp\u001b[0m\u001b[0;34m.\u001b[0m\u001b[0mndarray\u001b[0m\u001b[0;34m,\u001b[0m \u001b[0mIndex\u001b[0m\u001b[0;34m)\u001b[0m\u001b[0;34m)\u001b[0m\u001b[0;34m:\u001b[0m\u001b[0;34m\u001b[0m\u001b[0m\n\u001b[1;32m   2183\u001b[0m             \u001b[0mnew_columns\u001b[0m \u001b[0;34m=\u001b[0m \u001b[0mself\u001b[0m\u001b[0;34m.\u001b[0m\u001b[0mcolumns\u001b[0m\u001b[0;34m[\u001b[0m\u001b[0mloc\u001b[0m\u001b[0;34m]\u001b[0m\u001b[0;34m\u001b[0m\u001b[0m\n",
      "\u001b[0;32m~/git_repos/learning-rate-schedules/.tox/jupyter/lib/python3.6/site-packages/pandas/core/indexes/multi.py\u001b[0m in \u001b[0;36mget_loc\u001b[0;34m(self, key, method)\u001b[0m\n\u001b[1;32m   2090\u001b[0m             \u001b[0mkey\u001b[0m \u001b[0;34m=\u001b[0m \u001b[0m_values_from_object\u001b[0m\u001b[0;34m(\u001b[0m\u001b[0mkey\u001b[0m\u001b[0;34m)\u001b[0m\u001b[0;34m\u001b[0m\u001b[0m\n\u001b[1;32m   2091\u001b[0m             \u001b[0mkey\u001b[0m \u001b[0;34m=\u001b[0m \u001b[0mtuple\u001b[0m\u001b[0;34m(\u001b[0m\u001b[0mmap\u001b[0m\u001b[0;34m(\u001b[0m\u001b[0m_maybe_str_to_time_stamp\u001b[0m\u001b[0;34m,\u001b[0m \u001b[0mkey\u001b[0m\u001b[0;34m,\u001b[0m \u001b[0mself\u001b[0m\u001b[0;34m.\u001b[0m\u001b[0mlevels\u001b[0m\u001b[0;34m)\u001b[0m\u001b[0;34m)\u001b[0m\u001b[0;34m\u001b[0m\u001b[0m\n\u001b[0;32m-> 2092\u001b[0;31m             \u001b[0;32mreturn\u001b[0m \u001b[0mself\u001b[0m\u001b[0;34m.\u001b[0m\u001b[0m_engine\u001b[0m\u001b[0;34m.\u001b[0m\u001b[0mget_loc\u001b[0m\u001b[0;34m(\u001b[0m\u001b[0mkey\u001b[0m\u001b[0;34m)\u001b[0m\u001b[0;34m\u001b[0m\u001b[0m\n\u001b[0m\u001b[1;32m   2093\u001b[0m \u001b[0;34m\u001b[0m\u001b[0m\n\u001b[1;32m   2094\u001b[0m         \u001b[0;31m# -- partial selection or non-unique index\u001b[0m\u001b[0;34m\u001b[0m\u001b[0;34m\u001b[0m\u001b[0m\n",
      "\u001b[0;32mpandas/_libs/index.pyx\u001b[0m in \u001b[0;36mpandas._libs.index.MultiIndexObjectEngine.get_loc\u001b[0;34m()\u001b[0m\n",
      "\u001b[0;32mpandas/_libs/index.pyx\u001b[0m in \u001b[0;36mpandas._libs.index.MultiIndexObjectEngine.get_loc\u001b[0;34m()\u001b[0m\n",
      "\u001b[0;32mpandas/_libs/index.pyx\u001b[0m in \u001b[0;36mpandas._libs.index.IndexEngine.get_loc\u001b[0;34m()\u001b[0m\n",
      "\u001b[0;32mpandas/_libs/index.pyx\u001b[0m in \u001b[0;36mpandas._libs.index.IndexEngine.get_loc\u001b[0;34m()\u001b[0m\n",
      "\u001b[0;32mpandas/_libs/hashtable_class_helper.pxi\u001b[0m in \u001b[0;36mpandas._libs.hashtable.PyObjectHashTable.get_item\u001b[0;34m()\u001b[0m\n",
      "\u001b[0;32mpandas/_libs/hashtable_class_helper.pxi\u001b[0m in \u001b[0;36mpandas._libs.hashtable.PyObjectHashTable.get_item\u001b[0;34m()\u001b[0m\n",
      "\u001b[0;31mKeyError\u001b[0m: ('classification_accuracy', 'piecewise-constant')"
     ]
    }
   ],
   "source": [
    "tmeans = means[('classification_accuracy', 'piecewise-constant')]\n",
    "tstds = stds[('classification_accuracy', 'piecewise-constant')]\n",
    "\n",
    "fig = plt.figure(figsize=(15,6))\n",
    "ax = fig.add_subplot(1, 1, 1)\n",
    "\n",
    "tmeans.plot(kind='bar', ax=ax, yerr=tstds, color='mediumseagreen', alpha=0.8)\n",
    "\n",
    "ax.grid(axis='y')\n",
    "ax.set_axisbelow(True)\n",
    "ax.set_ylabel(\"Classification Accuracy\")\n",
    "ax.set_xlabel(\"Initial Learning Rate\")\n",
    "ax.set_title(\"Classification Accuracy for various Learning Rates\")\n",
    "\n",
    "ymin = tmeans.min().min()\n",
    "ymax = tmeans.max().max()\n",
    "yrange = ymax - ymin\n",
    "ylow = ymin - 0.4 * yrange\n",
    "yhigh = ymax + 0.4 * yrange\n",
    "ax.set_ylim(ylow, yhigh)\n",
    "\n",
    "# fix 0.007 being rendered as 0.006999999999999999\n",
    "labels = ['%1.3f' % float(x.get_text()) for x in ax.get_xticklabels()]\n",
    "ax.set_xticklabels(labels=labels)\n",
    "ax.xaxis.set_tick_params(rotation=60);"
   ]
  },
  {
   "cell_type": "code",
   "execution_count": null,
   "metadata": {
    "ExecuteTime": {
     "end_time": "2018-04-14T05:36:06.739551Z",
     "start_time": "2018-04-14T05:36:06.058Z"
    },
    "scrolled": true
   },
   "outputs": [],
   "source": [
    "monitors_filename = os.path.join(base_path, 'monitors.hd5')\n",
    "with pd.HDFStore(monitors_filename) as store:\n",
    "    keys = store.keys()\n",
    "    \n",
    "values = []\n",
    "for key in keys:\n",
    "    monitor = DataframeMonitor.from_file(monitors_filename, key=key)\n",
    "    _, _, rate, run_id = key.split('-')\n",
    "    value = {'id': run_id, 'steps': len(monitor.df), 'rate': rate}\n",
    "    values.append(value)"
   ]
  },
  {
   "cell_type": "code",
   "execution_count": null,
   "metadata": {
    "ExecuteTime": {
     "end_time": "2018-04-14T05:36:06.740143Z",
     "start_time": "2018-04-14T05:36:06.060Z"
    }
   },
   "outputs": [],
   "source": [
    "values_df = pd.DataFrame(values).set_index('id')\n",
    "\n",
    "steps_means = values_df.pivot_table(values='steps', index=['rate'])\n",
    "steps_stds = values_df.pivot_table(values='steps', index=['rate'], aggfunc=np.std)"
   ]
  },
  {
   "cell_type": "code",
   "execution_count": null,
   "metadata": {
    "ExecuteTime": {
     "end_time": "2018-04-14T05:36:06.740862Z",
     "start_time": "2018-04-14T05:36:06.062Z"
    }
   },
   "outputs": [],
   "source": [
    "tmeans = steps_means.iloc[:-6]\n",
    "tstds = steps_stds.iloc[:-6]\n",
    "\n",
    "fig = plt.figure(figsize=(15,6))\n",
    "ax = fig.add_subplot(1, 1, 1)\n",
    "\n",
    "tmeans.plot(kind='bar', ax=ax, yerr=tstds, color='dodgerblue', alpha=0.8)\n",
    "\n",
    "ax.grid(axis='y')\n",
    "ax.set_axisbelow(True)\n",
    "ax.set_ylabel(\"Number of Steps\")\n",
    "ax.set_xlabel(\"Initial Learning Rate\")\n",
    "ax.set_title(\"Number of Training Steps for various Learning Rates\")\n",
    "\n",
    "ymin = tmeans.min().min()\n",
    "ymax = tmeans.max().max()\n",
    "yrange = ymax - ymin\n",
    "ylow = ymin - 0.4 * yrange\n",
    "yhigh = ymax + 0.4 * yrange\n",
    "ax.set_ylim(ylow, yhigh)\n",
    "\n",
    "# fix 0.007 being rendered as 0.006999999999999999\n",
    "labels = ['%1.3f' % float(x.get_text()) for x in ax.get_xticklabels()]\n",
    "ax.set_xticklabels(labels=labels)\n",
    "ax.xaxis.set_tick_params(rotation=60);\n",
    "ax.legend().remove()"
   ]
  },
  {
   "cell_type": "code",
   "execution_count": null,
   "metadata": {},
   "outputs": [],
   "source": []
  }
 ],
 "metadata": {
  "hide_input": false,
  "kernelspec": {
   "display_name": "Python 3",
   "language": "python",
   "name": "python3"
  },
  "language_info": {
   "codemirror_mode": {
    "name": "ipython",
    "version": 3
   },
   "file_extension": ".py",
   "mimetype": "text/x-python",
   "name": "python",
   "nbconvert_exporter": "python",
   "pygments_lexer": "ipython3",
   "version": "3.6.3"
  }
 },
 "nbformat": 4,
 "nbformat_minor": 2
}
